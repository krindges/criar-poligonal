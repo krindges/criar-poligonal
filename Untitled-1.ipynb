{
 "cells": [
  {
   "cell_type": "code",
   "execution_count": 2,
   "metadata": {},
   "outputs": [
    {
     "data": {
      "text/plain": [
       "CompletedProcess(args=['C:/Users/USER/OneDrive - ufmt.br/Note_toshiba/gmsh-2.5.0-Windows/gmsh-2.5.0-Windows/gmsh.exe', 'C:\\\\Users\\\\USER\\\\Downloads\\\\malha (12).txt', '-2'], returncode=0)"
      ]
     },
     "execution_count": 2,
     "metadata": {},
     "output_type": "execute_result"
    }
   ],
   "source": [
    "import subprocess\n",
    "\n",
    "# Caminho do seu arquivo .txt para entrada\n",
    "arquivo_entrada = r\"C:\\Users\\USER\\Downloads\\malha (12).txt\"\n",
    "\n",
    "# Caminho para o executável do GMSH (ajuste conforme sua instalação)\n",
    "caminho_gmsh = r\"C:/Users/USER/OneDrive - ufmt.br/Note_toshiba/gmsh-2.5.0-Windows/gmsh-2.5.0-Windows/gmsh.exe\"\n",
    "\n",
    "# Gerar a malha usando GMSH via subprocess\n",
    "subprocess.run([caminho_gmsh, arquivo_entrada, \"-2\"])  # '-2' gera malha bidimensional"
   ]
  },
  {
   "cell_type": "markdown",
   "metadata": {},
   "source": []
  },
  {
   "cell_type": "code",
   "execution_count": null,
   "metadata": {},
   "outputs": [],
   "source": []
  }
 ],
 "metadata": {
  "kernelspec": {
   "display_name": "liama",
   "language": "python",
   "name": "python3"
  },
  "language_info": {
   "codemirror_mode": {
    "name": "ipython",
    "version": 3
   },
   "file_extension": ".py",
   "mimetype": "text/x-python",
   "name": "python",
   "nbconvert_exporter": "python",
   "pygments_lexer": "ipython3",
   "version": "3.12.4"
  }
 },
 "nbformat": 4,
 "nbformat_minor": 2
}
